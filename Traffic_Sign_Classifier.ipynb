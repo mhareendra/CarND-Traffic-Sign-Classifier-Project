{
 "cells": [
  {
   "cell_type": "markdown",
   "metadata": {},
   "source": [
    "# Self-Driving Car Engineer Nanodegree\n",
    "\n",
    "## Deep Learning\n",
    "\n",
    "## Project: Build a Traffic Sign Recognition Classifier\n",
    "\n",
    "In this notebook, a template is provided for you to implement your functionality in stages, which is required to successfully complete this project. If additional code is required that cannot be included in the notebook, be sure that the Python code is successfully imported and included in your submission if necessary. \n",
    "\n",
    "> **Note**: Once you have completed all of the code implementations, you need to finalize your work by exporting the iPython Notebook as an HTML document. Before exporting the notebook to html, all of the code cells need to have been run so that reviewers can see the final implementation and output. You can then export the notebook by using the menu above and navigating to  \\n\",\n",
    "    \"**File -> Download as -> HTML (.html)**. Include the finished document along with this notebook as your submission. \n",
    "\n",
    "In addition to implementing code, there is a writeup to complete. The writeup should be completed in a separate file, which can be either a markdown file or a pdf document. There is a [write up template](https://github.com/udacity/CarND-Traffic-Sign-Classifier-Project/blob/master/writeup_template.md) that can be used to guide the writing process. Completing the code template and writeup template will cover all of the [rubric points](https://review.udacity.com/#!/rubrics/481/view) for this project.\n",
    "\n",
    "The [rubric](https://review.udacity.com/#!/rubrics/481/view) contains \"Stand Out Suggestions\" for enhancing the project beyond the minimum requirements. The stand out suggestions are optional. If you decide to pursue the \"stand out suggestions\", you can include the code in this Ipython notebook and also discuss the results in the writeup file.\n",
    "\n",
    "\n",
    ">**Note:** Code and Markdown cells can be executed using the **Shift + Enter** keyboard shortcut. In addition, Markdown cells can be edited by typically double-clicking the cell to enter edit mode."
   ]
  },
  {
   "cell_type": "markdown",
   "metadata": {},
   "source": [
    "---\n",
    "## Step 0: Load The Data"
   ]
  },
  {
   "cell_type": "code",
   "execution_count": 23,
   "metadata": {
    "collapsed": false
   },
   "outputs": [],
   "source": [
    "# Load pickled data\n",
    "import pickle\n",
    "\n",
    "# TODO: Fill this in based on where you saved the training and testing data\n",
    "\n",
    "training_file = 'traffic-signs-data/train.p'\n",
    "validation_file='traffic-signs-data/valid.p'\n",
    "testing_file = 'traffic-signs-data/test.p'\n",
    "\n",
    "with open(training_file, mode='rb') as f:\n",
    "    train = pickle.load(f)\n",
    "with open(validation_file, mode='rb') as f:\n",
    "    valid = pickle.load(f)\n",
    "with open(testing_file, mode='rb') as f:\n",
    "    test = pickle.load(f)\n",
    "    \n",
    "X_train, y_train = train['features'], train['labels']\n",
    "X_valid, y_valid = valid['features'], valid['labels']\n",
    "X_test, y_test = test['features'], test['labels']"
   ]
  },
  {
   "cell_type": "markdown",
   "metadata": {},
   "source": [
    "---\n",
    "\n",
    "## Step 1: Dataset Summary & Exploration\n",
    "\n",
    "The pickled data is a dictionary with 4 key/value pairs:\n",
    "\n",
    "- `'features'` is a 4D array containing raw pixel data of the traffic sign images, (num examples, width, height, channels).\n",
    "- `'labels'` is a 1D array containing the label/class id of the traffic sign. The file `signnames.csv` contains id -> name mappings for each id.\n",
    "- `'sizes'` is a list containing tuples, (width, height) representing the original width and height the image.\n",
    "- `'coords'` is a list containing tuples, (x1, y1, x2, y2) representing coordinates of a bounding box around the sign in the image. **THESE COORDINATES ASSUME THE ORIGINAL IMAGE. THE PICKLED DATA CONTAINS RESIZED VERSIONS (32 by 32) OF THESE IMAGES**\n",
    "\n",
    "Complete the basic data summary below. Use python, numpy and/or pandas methods to calculate the data summary rather than hard coding the results. For example, the [pandas shape method](http://pandas.pydata.org/pandas-docs/stable/generated/pandas.DataFrame.shape.html) might be useful for calculating some of the summary results. "
   ]
  },
  {
   "cell_type": "markdown",
   "metadata": {},
   "source": [
    "### Provide a Basic Summary of the Data Set Using Python, Numpy and/or Pandas"
   ]
  },
  {
   "cell_type": "code",
   "execution_count": 144,
   "metadata": {
    "collapsed": false,
    "scrolled": false
   },
   "outputs": [
    {
     "name": "stdout",
     "output_type": "stream",
     "text": [
      "Number of training examples = 34799\n",
      "Numer of validation examples = 4410\n",
      "Number of testing examples = 12630\n",
      "Image data shape = (32, 32, 3)\n",
      "Number of classes = 43\n"
     ]
    }
   ],
   "source": [
    "### Replace each question mark with the appropriate value. \n",
    "### Use python, pandas or numpy methods rather than hard coding the results\n",
    "import numpy as np\n",
    "\n",
    "# TODO: Number of training examples\n",
    "n_train = y_train.shape[0]\n",
    "\n",
    "# TODO: Number of validation examples\n",
    "n_validation = y_valid.shape[0]\n",
    "\n",
    "# TODO: Number of testing examples.\n",
    "n_test = y_test.shape[0]\n",
    "\n",
    "# TODO: What's the shape of an traffic sign image?\n",
    "image_shape = X_train[0].shape  \n",
    "\n",
    "# TODO: How many unique classes/labels there are in the dataset.\n",
    "n_classes = len(np.unique(y_train))\n",
    "\n",
    "print(\"Number of training examples =\", n_train)\n",
    "print(\"Numer of validation examples =\", n_validation)\n",
    "print(\"Number of testing examples =\", n_test)\n",
    "print(\"Image data shape =\", image_shape)\n",
    "print(\"Number of classes =\", n_classes)"
   ]
  },
  {
   "cell_type": "markdown",
   "metadata": {},
   "source": [
    "### Include an exploratory visualization of the dataset"
   ]
  },
  {
   "cell_type": "markdown",
   "metadata": {},
   "source": [
    "Visualize the German Traffic Signs Dataset using the pickled file(s). This is open ended, suggestions include: plotting traffic sign images, plotting the count of each sign, etc. \n",
    "\n",
    "The [Matplotlib](http://matplotlib.org/) [examples](http://matplotlib.org/examples/index.html) and [gallery](http://matplotlib.org/gallery.html) pages are a great resource for doing visualizations in Python.\n",
    "\n",
    "**NOTE:** It's recommended you start with something simple first. If you wish to do more, come back to it after you've completed the rest of the sections. It can be interesting to look at the distribution of classes in the training, validation and test set. Is the distribution the same? Are there more examples of some classes than others?"
   ]
  },
  {
   "cell_type": "code",
   "execution_count": 25,
   "metadata": {
    "collapsed": false
   },
   "outputs": [
    {
     "name": "stdout",
     "output_type": "stream",
     "text": [
      "Training Data:\n",
      "[ 180 1980 2010 1260 1770 1650  360 1290 1260 1320 1800 1170 1890 1920\n",
      "  690  540  360  990 1080  180  300  270  330  450  240 1350  540  210\n",
      "  480  240  390  690  210  599  360 1080  330  180 1860  270  300  210\n",
      "  210]\n"
     ]
    },
    {
     "data": {
      "image/png": "[encoded data removed]",
      "text/plain": [
       "<matplotlib.figure.Figure at 0x25b0779be10>"
      ]
     },
     "metadata": {},
     "output_type": "display_data"
    },
    {
     "name": "stdout",
     "output_type": "stream",
     "text": [
      "Validation Data:\n",
      "[ 30 240 240 150 210 210  60 150 150 150 210 150 210 240  90  90  60 120\n",
      " 120  30  60  60  60  60  30 150  60  30  60  30  60  90  30  90  60 120\n",
      "  60  30 210  30  60  30  30]\n"
     ]
    },
    {
     "data": {
      "image/png": "[encoded data removed]",
      "text/plain": [
       "<matplotlib.figure.Figure at 0x25b12e28eb8>"
      ]
     },
     "metadata": {},
     "output_type": "display_data"
    }
   ],
   "source": [
    "### Data exploration visualization code goes here.\n",
    "### Feel free to use as many code cells as needed.\n",
    "import matplotlib.pyplot as plt\n",
    "from matplotlib import pyplot\n",
    "# Visualizations will be shown in the notebook.\n",
    "%matplotlib inline\n",
    "import random\n",
    "\n",
    "\n",
    "train_classes, train_classes_indx, train_classes_cnt = np.unique(y_train, return_index = True, return_counts = True)\n",
    "valid_classes, valid_classes_indx, valid_classes_cnt = np.unique(y_valid, return_index = True, return_counts = True)\n",
    "\n",
    "print('Training Data:')\n",
    "print(train_classes_cnt)\n",
    "pyplot.bar( np.arange(n_classes), train_classes_cnt, align='center' )\n",
    "pyplot.xlabel('Class')\n",
    "pyplot.ylabel('Training samples')\n",
    "pyplot.xlim([-1, n_classes])\n",
    "pyplot.show()\n",
    "\n",
    "print('Validation Data:')\n",
    "print(valid_classes_cnt)\n",
    "pyplot.bar( np.arange(n_classes), valid_classes_cnt, align='center' )\n",
    "pyplot.xlabel('Class')\n",
    "pyplot.ylabel('Validation samples')\n",
    "pyplot.xlim([-1, n_classes])\n",
    "pyplot.show()"
   ]
  },
  {
   "cell_type": "code",
   "execution_count": 26,
   "metadata": {
    "collapsed": false
   },
   "outputs": [
    {
     "data": {
      "image/png": "[encoded data removed]",
      "text/plain": [
       "<matplotlib.figure.Figure at 0x25b22195358>"
      ]
     },
     "metadata": {},
     "output_type": "display_data"
    },
    {
     "data": {
      "image/png": "[encoded data removed]",
      "text/plain": [
       "<matplotlib.figure.Figure at 0x25b221955c0>"
      ]
     },
     "metadata": {},
     "output_type": "display_data"
    },
    {
     "data": {
      "image/png": "[encoded data removed]",
      "text/plain": [
       "<matplotlib.figure.Figure at 0x25b223bfb00>"
      ]
     },
     "metadata": {},
     "output_type": "display_data"
    },
    {
     "data": {
      "image/png": "[encoded data removed]",
      "text/plain": [
       "<matplotlib.figure.Figure at 0x25b12da42b0>"
      ]
     },
     "metadata": {},
     "output_type": "display_data"
    },
    {
     "data": {
      "image/png": "[encoded data removed]",
      "text/plain": [
       "<matplotlib.figure.Figure at 0x25b2213ae10>"
      ]
     },
     "metadata": {},
     "output_type": "display_data"
    }
   ],
   "source": [
    "index = random.randint(0, len(X_train))\n",
    "image = X_train[index].squeeze()\n",
    "random_indices = []\n",
    "for i in range(0,5):\n",
    "    index = random.randint(0, len(X_train))\n",
    "    random_indices.append(index)\n",
    "    image = X_train[index]\n",
    "\n",
    "    plt.figure(figsize=(1,1))\n",
    "    plt.imshow(image)\n"
   ]
  },
  {
   "cell_type": "markdown",
   "metadata": {},
   "source": [
    "----\n",
    "\n",
    "## Step 2: Design and Test a Model Architecture\n",
    "\n",
    "Design and implement a deep learning model that learns to recognize traffic signs. Train and test your model on the [German Traffic Sign Dataset](http://benchmark.ini.rub.de/?section=gtsrb&subsection=dataset).\n",
    "\n",
    "The LeNet-5 implementation shown in the [classroom](https://classroom.udacity.com/nanodegrees/nd013/parts/fbf77062-5703-404e-b60c-95b78b2f3f9e/modules/6df7ae49-c61c-4bb2-a23e-6527e69209ec/lessons/601ae704-1035-4287-8b11-e2c2716217ad/concepts/d4aca031-508f-4e0b-b493-e7b706120f81) at the end of the CNN lesson is a solid starting point. You'll have to change the number of classes and possibly the preprocessing, but aside from that it's plug and play! \n",
    "\n",
    "With the LeNet-5 solution from the lecture, you should expect a validation set accuracy of about 0.89. To meet specifications, the validation set accuracy will need to be at least 0.93. It is possible to get an even higher accuracy, but 0.93 is the minimum for a successful project submission. \n",
    "\n",
    "There are various aspects to consider when thinking about this problem:\n",
    "\n",
    "- Neural network architecture (is the network over or underfitting?)\n",
    "- Play around preprocessing techniques (normalization, rgb to grayscale, etc)\n",
    "- Number of examples per label (some have more than others).\n",
    "- Generate fake data.\n",
    "\n",
    "Here is an example of a [published baseline model on this problem](http://yann.lecun.com/exdb/publis/pdf/sermanet-ijcnn-11.pdf). It's not required to be familiar with the approach used in the paper but, it's good practice to try to read papers like these."
   ]
  },
  {
   "cell_type": "markdown",
   "metadata": {},
   "source": [
    "### Pre-process the Data Set (normalization, grayscale, etc.)"
   ]
  },
  {
   "cell_type": "markdown",
   "metadata": {},
   "source": [
    "Minimally, the image data should be normalized so that the data has mean zero and equal variance. For image data, `(pixel - 128)/ 128` is a quick way to approximately normalize the data and can be used in this project. \n",
    "\n",
    "Other pre-processing steps are optional. You can try different techniques to see if it improves performance. \n",
    "\n",
    "Use the code cell (or multiple code cells, if necessary) to implement the first step of your project."
   ]
  },
  {
   "cell_type": "code",
   "execution_count": 50,
   "metadata": {
    "collapsed": false,
    "scrolled": false
   },
   "outputs": [
    {
     "data": {
      "image/png": "[encoded data removed]",
      "text/plain": [
       "<matplotlib.figure.Figure at 0x25b1f6446a0>"
      ]
     },
     "metadata": {},
     "output_type": "display_data"
    },
    {
     "data": {
      "image/png": "[encoded data removed]",
      "text/plain": [
       "<matplotlib.figure.Figure at 0x25b1bb67470>"
      ]
     },
     "metadata": {},
     "output_type": "display_data"
    },
    {
     "data": {
      "image/png": "[encoded data removed]",
      "text/plain": [
       "<matplotlib.figure.Figure at 0x25b12ca1550>"
      ]
     },
     "metadata": {},
     "output_type": "display_data"
    },
    {
     "data": {
      "image/png": "[encoded data removed]",
      "text/plain": [
       "<matplotlib.figure.Figure at 0x25b1ba70b38>"
      ]
     },
     "metadata": {},
     "output_type": "display_data"
    },
    {
     "data": {
      "image/png": "[encoded data removed]",
      "text/plain": [
       "<matplotlib.figure.Figure at 0x25b22359c50>"
      ]
     },
     "metadata": {},
     "output_type": "display_data"
    }
   ],
   "source": [
    "### Preprocess the data here. It is required to normalize the data. Other preprocessing steps could include \n",
    "### converting to grayscale, etc.\n",
    "### Feel free to use as many code cells as needed.\n",
    "import cv2\n",
    "from sklearn.utils import shuffle\n",
    "import numpy as np\n",
    "\n",
    "def to_gray(x):\n",
    "    res = np.zeros((len(x),32,32,1), np.float32)\n",
    "    for i in range(res.shape[0]):\n",
    "        temp = cv2.cvtColor(x[i], cv2.COLOR_BGR2GRAY)\n",
    "        res[i] = cv2.equalizeHist(temp).reshape(32,32,1)\n",
    "    return res\n",
    "\n",
    "def to_yuv(x):\n",
    "    res = np.zeros((len(x),32,32,3), np.float32)\n",
    "    for i in range(res.shape[0]):\n",
    "        temp = cv2.cvtColor(x[i], cv2.COLOR_BGR2YUV)\n",
    "        temp[:,:,0] = cv2.equalizeHist(temp[:,:,0])\n",
    "        res[i]= temp\n",
    "    return res    \n",
    "\n",
    "def to_y(x):\n",
    "    res = np.zeros((len(x),32,32,1), np.float32)\n",
    "    for i in range(res.shape[0]):\n",
    "        temp = cv2.cvtColor(x[i], cv2.COLOR_BGR2YUV)[:,:,0]\n",
    "        temp = cv2.equalizeHist(temp)\n",
    "        res[i]= temp.reshape(32,32,1)\n",
    "    return res    \n",
    "\n",
    "def normalize(x):\n",
    "    res = x\n",
    "    for i in range(len(x)):\n",
    "        res[i] =(x[i] - 128.0)/128.0       \n",
    "    return res\n",
    "\n",
    "def pre_process(x):  \n",
    "    x_y = to_y(x)\n",
    "    x_norm = normalize(x_y)\n",
    "    return x_norm\n",
    "        \n",
    "x_train = pre_process(X_train)\n",
    "x_valid = pre_process(X_valid)\n",
    "\n",
    "for i in range(len(random_indices)):\n",
    "    image = x_train[random_indices[i]].squeeze()\n",
    "    plt.figure(figsize=(1,1))\n",
    "    plt.imshow(image)"
   ]
  },
  {
   "cell_type": "markdown",
   "metadata": {},
   "source": [
    "The above figures show the preprocessed sample images\n",
    "The pre-processing operation:\n",
    "1. Convert image to YUV color space\n",
    "2. Extract Y channel\n",
    "3. Perform histogram equalization on the Luminance channel\n",
    "4. Normalize the result of the above step\n",
    "\n",
    "YUV corresponds to 1 luminance and 2 chrominance components. The Y component itself can be visualized as a grayscale image which indicates the brightness of colors and the chrominance components represent the colors. Only the Y layer is retained and the other 2 are not used (as described in http://yann.lecun.com/exdb/publis/pdf/sermanet-ijcnn-11.pdf\n",
    "[Traffic Sign Recognition with Multi-Scale Convolutional Networks, Pierre Sermanet et al])\n",
    "\n",
    "Histogram equalization is used to improve the contrast of our images (https://docs.opencv.org/3.2.0/d5/daf/tutorial_py_histogram_equalization.html). Intuitively, this is similar to applying uniform illumination throughout the image. This helps to avoid bias caused due to good illumination in less-useful regions in our images and also poor illumination on the useful regions.\n",
    "\n",
    "Normalizing the resulting image ensures that the pixel values are in the range [-1, +1]. This helps bound the range of values used in the training process."
   ]
  },
  {
   "cell_type": "markdown",
   "metadata": {},
   "source": [
    "### Model Architecture"
   ]
  },
  {
   "cell_type": "markdown",
   "metadata": {},
   "source": [
    "The Architecture used here is very similar to the LeNet design:\n",
    "- 2 layers each of (Convolutional + Relu activation + Max pooling)\n",
    "- Flatten\n",
    "- 2 layers each of (Fully connected + Relu activation + dropout)\n",
    "- Fully connected layer to generate Logits\n",
    "\n",
    "The key points:\n",
    "1. 32 filters used in Convolutional Layer 1\n",
    "2. 64 filters used in Convolutional layer 2\n",
    "3. Dropout with keep probability of 0.75 used in both the Fully connected  layers\n",
    "\n",
    "Each of the filters used in the convolutional layers helps to capture patterns/details in the images which improves the amount of information available for use. This was observed by the gradual rise in training accuracy as the number of filters was increased. This solves the problem of under-fitting.\n",
    "\n",
    "Adding the dropout step helps avoid over-fitting to our training data. \n",
    "The hyper-parameters mu (0) and sigma(0.1) are used in generating initial weights\n",
    "The sizes of the different layers are in the cell below:"
   ]
  },
  {
   "cell_type": "code",
   "execution_count": 28,
   "metadata": {
    "collapsed": true
   },
   "outputs": [],
   "source": [
    "### Define your architecture here.\n",
    "### Feel free to use as many code cells as needed.\n",
    "from tensorflow.contrib.layers import flatten\n",
    "\n",
    "def LeNet(x):    \n",
    "    # Hyperparameters\n",
    "    mu = 0\n",
    "    sigma = 0.1\n",
    "    \n",
    "    numFilters_L1 = 32\n",
    "    #Layer 1: Convolutional. Input = 32x32xC. Output = 28x28xnumFilters_L1.     \n",
    "    conv1_W = tf.Variable(tf.truncated_normal(shape=(5, 5, int(x.shape[3]), numFilters_L1), mean = mu, stddev = sigma))\n",
    "    conv1_b = tf.Variable(tf.zeros(numFilters_L1))\n",
    "    conv1   = tf.nn.conv2d(x, conv1_W, strides=[1, 1, 1, 1], padding='VALID') + conv1_b\n",
    "\n",
    "    #Activation.\n",
    "    conv1 = tf.nn.relu(conv1)\n",
    "\n",
    "    #Pooling. Input = 28x28xnumFilters_L1. Output = 14x14xnumFilters_L1.\n",
    "    conv1 = tf.nn.max_pool(conv1, ksize=[1, 2, 2, 1], strides=[1, 2, 2, 1], padding='VALID')\n",
    "\n",
    "    numFilters_L2 = 64\n",
    "    #Layer 2: Convolutional. Output = 10x10xnumFilters_L2.\n",
    "    conv2_W = tf.Variable(tf.truncated_normal(shape=(5, 5, numFilters_L1, numFilters_L2), mean = mu, stddev = sigma))\n",
    "    conv2_b = tf.Variable(tf.zeros(numFilters_L2))\n",
    "    conv2   = tf.nn.conv2d(conv1, conv2_W, strides=[1, 1, 1, 1], padding='VALID') + conv2_b\n",
    "\n",
    "    #Activation.\n",
    "    conv2 = tf.nn.relu(conv2)\n",
    "    \n",
    "    #Pooling. Input = 10x10xnumFilters_L2. Output = 5x5xnumFilters_L2.\n",
    "    conv2 = tf.nn.max_pool(conv2, ksize=[1, 2, 2, 1], strides=[1, 2, 2, 1], padding='VALID')\n",
    "\n",
    "    #Flatten. Input = 5x5xnumFilters_L2. Output = 400.\n",
    "    fc0   = flatten(conv2)\n",
    "\n",
    "    #Layer 3: Fully Connected. Input = 1600. Output = 800.\n",
    "    fc1_W = tf.Variable(tf.truncated_normal(shape=(1600, 800), mean = mu, stddev = sigma))\n",
    "    fc1_b = tf.Variable(tf.zeros(800))\n",
    "    fc1   = tf.matmul(fc0, fc1_W) + fc1_b\n",
    "\n",
    "    #Activation.\n",
    "    fc1    = tf.nn.relu(fc1)\n",
    "    \n",
    "    #Dropout\n",
    "    fc1 = tf.nn.dropout(fc1, 0.75)\n",
    "\n",
    "    #Layer 4: Fully Connected. Input = 800. Output = 200.\n",
    "    fc2_W  = tf.Variable(tf.truncated_normal(shape=(800, 200), mean = mu, stddev = sigma))\n",
    "    fc2_b  = tf.Variable(tf.zeros(200))\n",
    "    fc2    = tf.matmul(fc1, fc2_W) + fc2_b\n",
    "\n",
    "    #Activation.\n",
    "    fc2    = tf.nn.relu(fc2)\n",
    "    \n",
    "    #Dropout\n",
    "    fc2 = tf.nn.dropout(fc2, 0.75)\n",
    "\n",
    "    #Layer 5: Fully Connected. Input = 200. Output = n_classes.    \n",
    "    fc3_W  = tf.Variable(tf.truncated_normal(shape=(200, n_classes), mean = mu, stddev = sigma))\n",
    "    fc3_b  = tf.Variable(tf.zeros(n_classes))\n",
    "    logits = tf.matmul(fc2, fc3_W) + fc3_b\n",
    "\n",
    "    return logits"
   ]
  },
  {
   "cell_type": "code",
   "execution_count": 29,
   "metadata": {
    "collapsed": true
   },
   "outputs": [],
   "source": [
    "import tensorflow as tf\n",
    "\n",
    "EPOCHS = 75\n",
    "BATCH_SIZE = 128"
   ]
  },
  {
   "cell_type": "markdown",
   "metadata": {},
   "source": [
    "### Train, Validate and Test the Model"
   ]
  },
  {
   "cell_type": "markdown",
   "metadata": {},
   "source": [
    "A validation set can be used to assess how well the model is performing. A low accuracy on the training and validation\n",
    "sets imply underfitting. A high accuracy on the training set but low accuracy on the validation set implies overfitting."
   ]
  },
  {
   "cell_type": "code",
   "execution_count": 30,
   "metadata": {
    "collapsed": true
   },
   "outputs": [],
   "source": [
    "### Train your model here.\n",
    "### Calculate and report the accuracy on the training and validation set.\n",
    "### Once a final model architecture is selected, \n",
    "### the accuracy on the test set should be calculated and reported as well.\n",
    "### Feel free to use as many code cells as needed."
   ]
  },
  {
   "cell_type": "markdown",
   "metadata": {},
   "source": [
    "We stick to using a learning rate of 0.001 and consequently 75 epochs. Since our learning rate is not very slow, the number of epochs needed doesn't have  to be high.\n",
    "The batch-size is set to 128 to ensure optimum memory usage.\n",
    "\n",
    "The optimizer used is the Adam (Adaptive moment estimation) optimizer which is an extension of the classical stochastic gradient descent optimizer."
   ]
  },
  {
   "cell_type": "code",
   "execution_count": 31,
   "metadata": {
    "collapsed": false
   },
   "outputs": [],
   "source": [
    "x = tf.placeholder(tf.float32, (None, 32, 32, x_train.shape[3]))\n",
    "y = tf.placeholder(tf.int32, (None))\n",
    "one_hot_y = tf.one_hot(y, n_classes)\n",
    "\n",
    "rate = 0.001\n",
    "\n",
    "logits = LeNet(x)\n",
    "cross_entropy = tf.nn.softmax_cross_entropy_with_logits(labels=one_hot_y, logits=logits)\n",
    "loss_operation = tf.reduce_mean(cross_entropy)\n",
    "optimizer = tf.train.AdamOptimizer(learning_rate = rate)\n",
    "training_operation = optimizer.minimize(loss_operation)\n",
    "\n",
    "correct_prediction = tf.equal(tf.argmax(logits, 1), tf.argmax(one_hot_y, 1))\n",
    "accuracy_operation = tf.reduce_mean(tf.cast(correct_prediction, tf.float32))\n",
    "saver = tf.train.Saver()\n",
    "\n",
    "def evaluate(X_data, y_data):\n",
    "    num_examples = len(X_data)\n",
    "    total_accuracy = 0\n",
    "    sess = tf.get_default_session()\n",
    "    for offset in range(0, num_examples, BATCH_SIZE):\n",
    "        batch_x, batch_y = X_data[offset:offset+BATCH_SIZE], y_data[offset:offset+BATCH_SIZE]\n",
    "        accuracy = sess.run(accuracy_operation, feed_dict={x: batch_x, y: batch_y})\n",
    "        total_accuracy += (accuracy * len(batch_x))\n",
    "    return total_accuracy / num_examples"
   ]
  },
  {
   "cell_type": "code",
   "execution_count": 32,
   "metadata": {
    "collapsed": false,
    "scrolled": true
   },
   "outputs": [
    {
     "name": "stdout",
     "output_type": "stream",
     "text": [
      "Training...\n",
      "\n",
      "EPOCH 1 ...\n",
      "Training Accuracy = 0.905\n",
      "Validation Accuracy = 0.845\n",
      "\n",
      "EPOCH 2 ...\n",
      "Training Accuracy = 0.964\n",
      "Validation Accuracy = 0.904\n",
      "\n",
      "EPOCH 3 ...\n",
      "Training Accuracy = 0.985\n",
      "Validation Accuracy = 0.931\n",
      "\n",
      "EPOCH 4 ...\n",
      "Training Accuracy = 0.989\n",
      "Validation Accuracy = 0.932\n",
      "\n",
      "EPOCH 5 ...\n",
      "Training Accuracy = 0.991\n",
      "Validation Accuracy = 0.938\n",
      "\n",
      "EPOCH 6 ...\n",
      "Training Accuracy = 0.988\n",
      "Validation Accuracy = 0.926\n",
      "\n",
      "EPOCH 7 ...\n",
      "Training Accuracy = 0.995\n",
      "Validation Accuracy = 0.943\n",
      "\n",
      "EPOCH 8 ...\n",
      "Training Accuracy = 0.995\n",
      "Validation Accuracy = 0.941\n",
      "\n",
      "EPOCH 9 ...\n",
      "Training Accuracy = 0.995\n",
      "Validation Accuracy = 0.942\n",
      "\n",
      "EPOCH 10 ...\n",
      "Training Accuracy = 0.992\n",
      "Validation Accuracy = 0.928\n",
      "\n",
      "EPOCH 11 ...\n",
      "Training Accuracy = 0.993\n",
      "Validation Accuracy = 0.937\n",
      "\n",
      "EPOCH 12 ...\n",
      "Training Accuracy = 0.996\n",
      "Validation Accuracy = 0.951\n",
      "\n",
      "EPOCH 13 ...\n",
      "Training Accuracy = 0.995\n",
      "Validation Accuracy = 0.932\n",
      "\n",
      "EPOCH 14 ...\n",
      "Training Accuracy = 0.997\n",
      "Validation Accuracy = 0.946\n",
      "\n",
      "EPOCH 15 ...\n",
      "Training Accuracy = 0.995\n",
      "Validation Accuracy = 0.944\n",
      "\n",
      "EPOCH 16 ...\n",
      "Training Accuracy = 0.994\n",
      "Validation Accuracy = 0.944\n",
      "\n",
      "EPOCH 17 ...\n",
      "Training Accuracy = 0.997\n",
      "Validation Accuracy = 0.949\n",
      "\n",
      "EPOCH 18 ...\n",
      "Training Accuracy = 0.996\n",
      "Validation Accuracy = 0.946\n",
      "\n",
      "EPOCH 19 ...\n",
      "Training Accuracy = 0.995\n",
      "Validation Accuracy = 0.950\n",
      "\n",
      "EPOCH 20 ...\n",
      "Training Accuracy = 0.996\n",
      "Validation Accuracy = 0.956\n",
      "\n",
      "EPOCH 21 ...\n",
      "Training Accuracy = 0.998\n",
      "Validation Accuracy = 0.957\n",
      "\n",
      "EPOCH 22 ...\n",
      "Training Accuracy = 0.997\n",
      "Validation Accuracy = 0.946\n",
      "\n",
      "EPOCH 23 ...\n",
      "Training Accuracy = 0.996\n",
      "Validation Accuracy = 0.941\n",
      "\n",
      "EPOCH 24 ...\n",
      "Training Accuracy = 0.997\n",
      "Validation Accuracy = 0.948\n",
      "\n",
      "EPOCH 25 ...\n",
      "Training Accuracy = 0.998\n",
      "Validation Accuracy = 0.968\n",
      "\n",
      "EPOCH 26 ...\n",
      "Training Accuracy = 0.996\n",
      "Validation Accuracy = 0.949\n",
      "\n",
      "EPOCH 27 ...\n",
      "Training Accuracy = 0.999\n",
      "Validation Accuracy = 0.956\n",
      "\n",
      "EPOCH 28 ...\n",
      "Training Accuracy = 0.996\n",
      "Validation Accuracy = 0.945\n",
      "\n",
      "EPOCH 29 ...\n",
      "Training Accuracy = 0.999\n",
      "Validation Accuracy = 0.965\n",
      "\n",
      "EPOCH 30 ...\n",
      "Training Accuracy = 0.998\n",
      "Validation Accuracy = 0.959\n",
      "\n",
      "EPOCH 31 ...\n",
      "Training Accuracy = 0.999\n",
      "Validation Accuracy = 0.962\n",
      "\n",
      "EPOCH 32 ...\n",
      "Training Accuracy = 0.997\n",
      "Validation Accuracy = 0.962\n",
      "\n",
      "EPOCH 33 ...\n",
      "Training Accuracy = 0.998\n",
      "Validation Accuracy = 0.966\n",
      "\n",
      "EPOCH 34 ...\n",
      "Training Accuracy = 0.998\n",
      "Validation Accuracy = 0.961\n",
      "\n",
      "EPOCH 35 ...\n",
      "Training Accuracy = 0.998\n",
      "Validation Accuracy = 0.957\n",
      "\n",
      "EPOCH 36 ...\n",
      "Training Accuracy = 0.999\n",
      "Validation Accuracy = 0.961\n",
      "\n",
      "EPOCH 37 ...\n",
      "Training Accuracy = 0.998\n",
      "Validation Accuracy = 0.955\n",
      "\n",
      "EPOCH 38 ...\n",
      "Training Accuracy = 0.997\n",
      "Validation Accuracy = 0.954\n",
      "\n",
      "EPOCH 39 ...\n",
      "Training Accuracy = 0.999\n",
      "Validation Accuracy = 0.964\n",
      "\n",
      "EPOCH 40 ...\n",
      "Training Accuracy = 0.998\n",
      "Validation Accuracy = 0.955\n",
      "\n",
      "EPOCH 41 ...\n",
      "Training Accuracy = 0.998\n",
      "Validation Accuracy = 0.953\n",
      "\n",
      "EPOCH 42 ...\n",
      "Training Accuracy = 0.999\n",
      "Validation Accuracy = 0.969\n",
      "\n",
      "EPOCH 43 ...\n",
      "Training Accuracy = 0.991\n",
      "Validation Accuracy = 0.942\n",
      "\n",
      "EPOCH 44 ...\n",
      "Training Accuracy = 0.998\n",
      "Validation Accuracy = 0.959\n",
      "\n",
      "EPOCH 45 ...\n",
      "Training Accuracy = 0.999\n",
      "Validation Accuracy = 0.966\n",
      "\n",
      "EPOCH 46 ...\n",
      "Training Accuracy = 0.998\n",
      "Validation Accuracy = 0.965\n",
      "\n",
      "EPOCH 47 ...\n",
      "Training Accuracy = 0.999\n",
      "Validation Accuracy = 0.961\n",
      "\n",
      "EPOCH 48 ...\n",
      "Training Accuracy = 0.999\n",
      "Validation Accuracy = 0.961\n",
      "\n",
      "EPOCH 49 ...\n",
      "Training Accuracy = 0.999\n",
      "Validation Accuracy = 0.961\n",
      "\n",
      "EPOCH 50 ...\n",
      "Training Accuracy = 0.997\n",
      "Validation Accuracy = 0.952\n",
      "\n",
      "EPOCH 51 ...\n",
      "Training Accuracy = 0.999\n",
      "Validation Accuracy = 0.955\n",
      "\n",
      "EPOCH 52 ...\n",
      "Training Accuracy = 0.999\n",
      "Validation Accuracy = 0.959\n",
      "\n",
      "EPOCH 53 ...\n",
      "Training Accuracy = 0.999\n",
      "Validation Accuracy = 0.962\n",
      "\n",
      "EPOCH 54 ...\n",
      "Training Accuracy = 0.996\n",
      "Validation Accuracy = 0.945\n",
      "\n",
      "EPOCH 55 ...\n",
      "Training Accuracy = 0.996\n",
      "Validation Accuracy = 0.941\n",
      "\n",
      "EPOCH 56 ...\n",
      "Training Accuracy = 0.998\n",
      "Validation Accuracy = 0.960\n",
      "\n",
      "EPOCH 57 ...\n",
      "Training Accuracy = 0.998\n",
      "Validation Accuracy = 0.956\n",
      "\n",
      "EPOCH 58 ...\n",
      "Training Accuracy = 0.996\n",
      "Validation Accuracy = 0.937\n",
      "\n",
      "EPOCH 59 ...\n",
      "Training Accuracy = 0.998\n",
      "Validation Accuracy = 0.951\n",
      "\n",
      "EPOCH 60 ...\n",
      "Training Accuracy = 0.999\n",
      "Validation Accuracy = 0.958\n",
      "\n",
      "EPOCH 61 ...\n",
      "Training Accuracy = 0.998\n",
      "Validation Accuracy = 0.954\n",
      "\n",
      "EPOCH 62 ...\n",
      "Training Accuracy = 0.999\n",
      "Validation Accuracy = 0.964\n",
      "\n",
      "EPOCH 63 ...\n",
      "Training Accuracy = 1.000\n",
      "Validation Accuracy = 0.962\n",
      "\n",
      "EPOCH 64 ...\n",
      "Training Accuracy = 0.998\n",
      "Validation Accuracy = 0.957\n",
      "\n",
      "EPOCH 65 ...\n",
      "Training Accuracy = 0.999\n",
      "Validation Accuracy = 0.968\n",
      "\n",
      "EPOCH 66 ...\n",
      "Training Accuracy = 0.999\n",
      "Validation Accuracy = 0.968\n",
      "\n",
      "EPOCH 67 ...\n",
      "Training Accuracy = 0.999\n",
      "Validation Accuracy = 0.958\n",
      "\n",
      "EPOCH 68 ...\n",
      "Training Accuracy = 0.999\n",
      "Validation Accuracy = 0.962\n",
      "\n",
      "EPOCH 69 ...\n",
      "Training Accuracy = 0.999\n",
      "Validation Accuracy = 0.967\n",
      "\n",
      "EPOCH 70 ...\n",
      "Training Accuracy = 0.998\n",
      "Validation Accuracy = 0.956\n",
      "\n",
      "EPOCH 71 ...\n",
      "Training Accuracy = 0.999\n",
      "Validation Accuracy = 0.951\n",
      "\n",
      "EPOCH 72 ...\n",
      "Training Accuracy = 0.999\n",
      "Validation Accuracy = 0.954\n",
      "\n",
      "EPOCH 73 ...\n",
      "Training Accuracy = 0.999\n",
      "Validation Accuracy = 0.957\n",
      "\n",
      "EPOCH 74 ...\n",
      "Training Accuracy = 0.999\n",
      "Validation Accuracy = 0.958\n",
      "\n",
      "EPOCH 75 ...\n",
      "Training Accuracy = 0.999\n",
      "Validation Accuracy = 0.961\n",
      "\n",
      "Model saved\n"
     ]
    }
   ],
   "source": [
    "with tf.Session() as sess:\n",
    "    sess.run(tf.global_variables_initializer())\n",
    "    num_examples = len(x_train)\n",
    "    \n",
    "    print(\"Training...\")\n",
    "    print()\n",
    "    for i in range(EPOCHS):\n",
    "        x_train, y_train = shuffle(x_train, y_train)\n",
    "        for offset in range(0, num_examples, BATCH_SIZE):\n",
    "            end = offset + BATCH_SIZE\n",
    "            batch_x, batch_y = x_train[offset:end], y_train[offset:end]\n",
    "            sess.run(training_operation, feed_dict={x: batch_x, y: batch_y})\n",
    "            \n",
    "        training_accuracy = evaluate(x_train, y_train)\n",
    "        x_valid, y_valid = shuffle(x_valid, y_valid)    \n",
    "        validation_accuracy = evaluate(x_valid, y_valid)\n",
    "        print(\"EPOCH {} ...\".format(i+1))\n",
    "        print(\"Training Accuracy = {:.3f}\".format(training_accuracy))\n",
    "        print(\"Validation Accuracy = {:.3f}\".format(validation_accuracy))\n",
    "        print()\n",
    "        \n",
    "    saver.save(sess, './traffic_sign_classifier')\n",
    "    print(\"Model saved\")"
   ]
  },
  {
   "cell_type": "markdown",
   "metadata": {},
   "source": [
    "The training, validation and the test processes all use the same pre-process operations to ensure maximum relevance of the results  "
   ]
  },
  {
   "cell_type": "code",
   "execution_count": 33,
   "metadata": {
    "collapsed": false
   },
   "outputs": [
    {
     "name": "stdout",
     "output_type": "stream",
     "text": [
      "INFO:tensorflow:Restoring parameters from .\\traffic_sign_classifier\n"
     ]
    },
    {
     "name": "stderr",
     "output_type": "stream",
     "text": [
      "INFO:tensorflow:Restoring parameters from .\\traffic_sign_classifier\n"
     ]
    },
    {
     "name": "stdout",
     "output_type": "stream",
     "text": [
      "Test Accuracy = 0.940\n"
     ]
    }
   ],
   "source": [
    "x_test = pre_process(X_test)\n",
    "\n",
    "with tf.Session() as sess:\n",
    "    saver.restore(sess, tf.train.latest_checkpoint('.'))\n",
    "\n",
    "    test_accuracy = evaluate(x_test, y_test)\n",
    "    print(\"Test Accuracy = {:.3f}\".format(test_accuracy))"
   ]
  },
  {
   "cell_type": "markdown",
   "metadata": {},
   "source": [
    "---\n",
    "\n",
    "## Step 3: Test a Model on New Images\n",
    "\n",
    "To give yourself more insight into how your model is working, download at least five pictures of German traffic signs from the web and use your model to predict the traffic sign type.\n",
    "\n",
    "You may find `signnames.csv` useful as it contains mappings from the class id (integer) to the actual sign name."
   ]
  },
  {
   "cell_type": "markdown",
   "metadata": {},
   "source": [
    "### Load and Output the Images"
   ]
  },
  {
   "cell_type": "code",
   "execution_count": 64,
   "metadata": {
    "collapsed": false
   },
   "outputs": [
    {
     "data": {
      "image/png": "[encoded data removed]",
      "text/plain": [
       "<matplotlib.figure.Figure at 0x25b15d4a5f8>"
      ]
     },
     "metadata": {},
     "output_type": "display_data"
    }
   ],
   "source": [
    "### Load the images and plot them here.\n",
    "import matplotlib.image as mpimg\n",
    "image_names = ['1r.jpg', '2r.jpg', '3r.jpg', '4r.jpg', '5r.jpg']\n",
    "directory = 'custom'\n",
    "\n",
    "X_custom = np.empty((len(image_names), 32, 32, 3), np.int32)\n",
    "y_custom = [14,11,25,17,13] #actual classes of images: \n",
    "#[Stop, Right-of-way at the next intersection,Road work,No entry,Yield]\n",
    "\n",
    "fig = pyplot.figure(figsize=(6, 6))\n",
    "for i in range(len(image_names)):\n",
    "    image = mpimg.imread(directory+'\\\\'+image_names[i])\n",
    "    X_custom[i] = image    \n",
    "    ax = fig.add_subplot(1, len(image_names), i + 1, xticks=[], yticks=[])\n",
    "    ax.imshow(image)\n",
    "    \n"
   ]
  },
  {
   "cell_type": "code",
   "execution_count": 73,
   "metadata": {
    "collapsed": false
   },
   "outputs": [
    {
     "data": {
      "image/png": "[encoded data removed]",
      "text/plain": [
       "<matplotlib.figure.Figure at 0x25b1baf4898>"
      ]
     },
     "metadata": {},
     "output_type": "display_data"
    }
   ],
   "source": [
    "x_custom = pre_process(X_custom.astype(np.uint8))\n",
    "fig2 = pyplot.figure(figsize=(6, 6))\n",
    "for i in range(len(x_custom)):\n",
    "    ax = fig2.add_subplot(1, len(x_custom), i + 1, xticks=[], yticks=[])\n",
    "    ax.imshow(x_custom[i].squeeze())\n"
   ]
  },
  {
   "cell_type": "markdown",
   "metadata": {},
   "source": [
    "The first cell in this section shows the original images and the above shows them pre-processed. \n",
    "\n",
    "It can be observed that the traffic signs occupy majority of the image ensuring that we do not have to apply any detection algorithms to segment the objects of interest.\n",
    "\n",
    "The images correspond to: \n",
    "[Stop, Right-of-way at the next intersection, Road work, No entry, Yield]\n",
    "\n",
    "We can see that 'Right of way' and 'Road work' signs are quite similar. They share the same outline shape and its color, with a black colored figure inside. This would be a good test for the classifier, but since we supplied a large number of training samples for both these classes (1170 and 1350), we should expect correct classification.\n",
    "\n",
    "The STOP and Yield signs are also quite similar in terms of shape and the colors of the foreground vs background. If the classifier has captured patterns pertaining to the letters inside the sign, it should be able to differentiate these signs confidently.  \n"
   ]
  },
  {
   "cell_type": "markdown",
   "metadata": {},
   "source": [
    "### Predict the Sign Type for Each Image"
   ]
  },
  {
   "cell_type": "code",
   "execution_count": 85,
   "metadata": {
    "collapsed": true
   },
   "outputs": [],
   "source": [
    "### Run the predictions here and use the model to output the prediction for each image.\n",
    "### Make sure to pre-process the images with the same pre-processing pipeline used earlier.\n",
    "\n",
    "def predict(X_data, y_data):\n",
    "    num_examples = len(X_data)\n",
    "    sess = tf.get_default_session()\n",
    "    res = []\n",
    "    for offset in range(0, num_examples, num_examples):\n",
    "        batch_x, batch_y = X_data[offset:offset+num_examples], y_data[offset:offset+num_examples]\n",
    "        prediction = sess.run(logits, feed_dict={x: batch_x, y: batch_y})\n",
    "        res.append(prediction)\n",
    "    return res\n"
   ]
  },
  {
   "cell_type": "code",
   "execution_count": 119,
   "metadata": {
    "collapsed": false
   },
   "outputs": [
    {
     "name": "stdout",
     "output_type": "stream",
     "text": [
      "INFO:tensorflow:Restoring parameters from .\\traffic_sign_classifier\n"
     ]
    },
    {
     "name": "stderr",
     "output_type": "stream",
     "text": [
      "INFO:tensorflow:Restoring parameters from .\\traffic_sign_classifier\n"
     ]
    },
    {
     "name": "stdout",
     "output_type": "stream",
     "text": [
      "Actual= 14 Predicted= 13 INCORRECT\n",
      "Actual= 11 Predicted= 11 CORRECT\n",
      "Actual= 25 Predicted= 25 CORRECT\n",
      "Actual= 17 Predicted= 17 CORRECT\n",
      "Actual= 13 Predicted= 13 CORRECT\n"
     ]
    }
   ],
   "source": [
    "predictions = tf.argmax(logits, 1)\n",
    "with tf.Session() as sess:\n",
    "    saver.restore(sess, tf.train.latest_checkpoint('.'))\n",
    "    res = predictions.eval(session=sess,feed_dict={x: x_custom})\n",
    "   \n",
    "    for i in range(len(y_custom)):        \n",
    "        print('Actual=',end=' '),print(y_custom[i],end=' '), \n",
    "        print('Predicted=',end=' '), print(res[i],end=' '),\n",
    "        if(y_custom[i] == res[i]):\n",
    "            print('CORRECT')\n",
    "        else:\n",
    "            print('INCORRECT')\n"
   ]
  },
  {
   "cell_type": "markdown",
   "metadata": {},
   "source": [
    "### Analyze Performance"
   ]
  },
  {
   "cell_type": "code",
   "execution_count": 113,
   "metadata": {
    "collapsed": false
   },
   "outputs": [
    {
     "name": "stdout",
     "output_type": "stream",
     "text": [
      "Accuracy(%) =  80.0\n"
     ]
    },
    {
     "data": {
      "text/plain": [
       "(None, None)"
      ]
     },
     "execution_count": 113,
     "metadata": {},
     "output_type": "execute_result"
    }
   ],
   "source": [
    "### Calculate the accuracy for these 5 new images. \n",
    "### For example, if the model predicted 1 out of 5 signs correctly, it's 20% accurate on these new images.\n",
    "correct = 0\n",
    "for i in range(len(y_custom)):        \n",
    "        if(y_custom[i] == res[i]):\n",
    "            correct += 1\n",
    "correct_percent = (correct / len(res)) * 100\n",
    "print('Accuracy(%) = ', end =' '), print(correct_percent)"
   ]
  },
  {
   "cell_type": "markdown",
   "metadata": {},
   "source": [
    "### Output Top 5 Softmax Probabilities For Each Image Found on the Web"
   ]
  },
  {
   "cell_type": "markdown",
   "metadata": {},
   "source": [
    "For each of the new images, print out the model's softmax probabilities to show the **certainty** of the model's predictions (limit the output to the top 5 probabilities for each image). [`tf.nn.top_k`](https://www.tensorflow.org/versions/r0.12/api_docs/python/nn.html#top_k) could prove helpful here. \n",
    "\n",
    "The example below demonstrates how tf.nn.top_k can be used to find the top k predictions for each image.\n",
    "\n",
    "`tf.nn.top_k` will return the values and indices (class ids) of the top k predictions. So if k=3, for each sign, it'll return the 3 largest probabilities (out of a possible 43) and the correspoding class ids.\n",
    "\n",
    "Take this numpy array as an example. The values in the array represent predictions. The array contains softmax probabilities for five candidate images with six possible classes. `tf.nn.top_k` is used to choose the three classes with the highest probability:\n",
    "\n",
    "```\n",
    "# (5, 6) array\n",
    "a = np.array([[ 0.24879643,  0.07032244,  0.12641572,  0.34763842,  0.07893497,\n",
    "         0.12789202],\n",
    "       [ 0.28086119,  0.27569815,  0.08594638,  0.0178669 ,  0.18063401,\n",
    "         0.15899337],\n",
    "       [ 0.26076848,  0.23664738,  0.08020603,  0.07001922,  0.1134371 ,\n",
    "         0.23892179],\n",
    "       [ 0.11943333,  0.29198961,  0.02605103,  0.26234032,  0.1351348 ,\n",
    "         0.16505091],\n",
    "       [ 0.09561176,  0.34396535,  0.0643941 ,  0.16240774,  0.24206137,\n",
    "         0.09155967]])\n",
    "```\n",
    "\n",
    "Running it through `sess.run(tf.nn.top_k(tf.constant(a), k=3))` produces:\n",
    "\n",
    "```\n",
    "TopKV2(values=array([[ 0.34763842,  0.24879643,  0.12789202],\n",
    "       [ 0.28086119,  0.27569815,  0.18063401],\n",
    "       [ 0.26076848,  0.23892179,  0.23664738],\n",
    "       [ 0.29198961,  0.26234032,  0.16505091],\n",
    "       [ 0.34396535,  0.24206137,  0.16240774]]), indices=array([[3, 0, 5],\n",
    "       [0, 1, 4],\n",
    "       [0, 5, 1],\n",
    "       [1, 3, 5],\n",
    "       [1, 4, 3]], dtype=int32))\n",
    "```\n",
    "\n",
    "Looking just at the first row we get `[ 0.34763842,  0.24879643,  0.12789202]`, you can confirm these are the 3 largest probabilities in `a`. You'll also notice `[3, 0, 5]` are the corresponding indices."
   ]
  },
  {
   "cell_type": "code",
   "execution_count": 143,
   "metadata": {
    "collapsed": false
   },
   "outputs": [
    {
     "name": "stdout",
     "output_type": "stream",
     "text": [
      "INFO:tensorflow:Restoring parameters from .\\traffic_sign_classifier\n"
     ]
    },
    {
     "name": "stderr",
     "output_type": "stream",
     "text": [
      "INFO:tensorflow:Restoring parameters from .\\traffic_sign_classifier\n"
     ]
    },
    {
     "name": "stdout",
     "output_type": "stream",
     "text": [
      "Image 0\n",
      "Probabilities:\n",
      "[9.9854279e-01 1.4031365e-03 3.8924081e-05 4.0713830e-06 3.7073937e-06]\n",
      "Indices:  [13 14 15 26  8]\n",
      "Max prob:  0.9985428\n",
      "\n",
      "Image 1\n",
      "Probabilities:\n",
      "[1.0000000e+00 5.1459554e-36 1.5356055e-37 0.0000000e+00 0.0000000e+00]\n",
      "Indices:  [11 30 21  0  1]\n",
      "Max prob:  1.0\n",
      "\n",
      "Image 2\n",
      "Probabilities:\n",
      "[1.0000000e+00 7.7340031e-17 5.2681800e-17 5.0577584e-20 7.1374431e-23]\n",
      "Indices:  [25 34 13 11 18]\n",
      "Max prob:  1.0\n",
      "\n",
      "Image 3\n",
      "Probabilities:\n",
      "[1. 0. 0. 0. 0.]\n",
      "Indices:  [17  0  1  2  3]\n",
      "Max prob:  1.0\n",
      "\n",
      "Image 4\n",
      "Probabilities:\n",
      "[1. 0. 0. 0. 0.]\n",
      "Indices:  [13  0  1  2  3]\n",
      "Max prob:  1.0\n",
      "\n"
     ]
    }
   ],
   "source": [
    "### Print out the top five softmax probabilities for the predictions on the German traffic sign images found on the web. \n",
    "### Feel free to use as many code cells as needed.\n",
    "prob = logits\n",
    "with tf.Session() as sess:\n",
    "    saver.restore(sess, tf.train.latest_checkpoint('.'))\n",
    "    res = sess.run(tf.nn.top_k(tf.nn.softmax(prob.eval(session=sess,feed_dict={x:x_custom})), k=5))\n",
    "    values = list(res.values)\n",
    "    indices = list(res.indices)\n",
    "    for i in range(len(values)):\n",
    "        print('Image',i)\n",
    "        print('Probabilities:')\n",
    "        print(values[i])\n",
    "        print('Indices: ',indices[i])\n",
    "        print('Max prob: ', max(values[i]))\n",
    "        \n",
    "        print()\n",
    "    "
   ]
  },
  {
   "cell_type": "code",
   "execution_count": null,
   "metadata": {
    "collapsed": true
   },
   "outputs": [],
   "source": [
    "## As shown in the above cell, the classifier is very confident of its predictions on all images.\n",
    "##The first image was incorrectly classified as 13 (Yield) even though it was 14 (Stop).\n",
    "\n",
    "#At first glance, the yield sign and the stop sign could be mistaken if not for the 'STOP' word in the STOP sign. This may be\n",
    "#because the octagonal  outline of the STOP sign could be confused for a circular outline, especially in low resolution images \n",
    "#like the ones in our training data set (32x32). Also, the signs are a bit similar in the sense that each is a white foreground\n",
    "#on a red background. Looking back at the training data, we see that there were 690 samples of the 'Yield' sign whereas we had\n",
    "#1920 samples of the 'STOP' sign\n",
    "\n",
    "#All the other images were correctly classified with maximum probability of 1, which means that the classifier is very sure of\n",
    "#its predictions\n",
    "\n"
   ]
  },
  {
   "cell_type": "markdown",
   "metadata": {},
   "source": [
    "### Project Writeup\n",
    "\n",
    "Once you have completed the code implementation, document your results in a project writeup using this [template](https://github.com/udacity/CarND-Traffic-Sign-Classifier-Project/blob/master/writeup_template.md) as a guide. The writeup can be in a markdown or pdf file. "
   ]
  },
  {
   "cell_type": "markdown",
   "metadata": {},
   "source": [
    "> **Note**: Once you have completed all of the code implementations and successfully answered each question above, you may finalize your work by exporting the iPython Notebook as an HTML document. You can do this by using the menu above and navigating to  \\n\",\n",
    "    \"**File -> Download as -> HTML (.html)**. Include the finished document along with this notebook as your submission."
   ]
  },
  {
   "cell_type": "markdown",
   "metadata": {},
   "source": [
    "---\n",
    "\n",
    "## Step 4 (Optional): Visualize the Neural Network's State with Test Images\n",
    "\n",
    " This Section is not required to complete but acts as an additional excersise for understaning the output of a neural network's weights. While neural networks can be a great learning device they are often referred to as a black box. We can understand what the weights of a neural network look like better by plotting their feature maps. After successfully training your neural network you can see what it's feature maps look like by plotting the output of the network's weight layers in response to a test stimuli image. From these plotted feature maps, it's possible to see what characteristics of an image the network finds interesting. For a sign, maybe the inner network feature maps react with high activation to the sign's boundary outline or to the contrast in the sign's painted symbol.\n",
    "\n",
    " Provided for you below is the function code that allows you to get the visualization output of any tensorflow weight layer you want. The inputs to the function should be a stimuli image, one used during training or a new one you provided, and then the tensorflow variable name that represents the layer's state during the training process, for instance if you wanted to see what the [LeNet lab's](https://classroom.udacity.com/nanodegrees/nd013/parts/fbf77062-5703-404e-b60c-95b78b2f3f9e/modules/6df7ae49-c61c-4bb2-a23e-6527e69209ec/lessons/601ae704-1035-4287-8b11-e2c2716217ad/concepts/d4aca031-508f-4e0b-b493-e7b706120f81) feature maps looked like for it's second convolutional layer you could enter conv2 as the tf_activation variable.\n",
    "\n",
    "For an example of what feature map outputs look like, check out NVIDIA's results in their paper [End-to-End Deep Learning for Self-Driving Cars](https://devblogs.nvidia.com/parallelforall/deep-learning-self-driving-cars/) in the section Visualization of internal CNN State. NVIDIA was able to show that their network's inner weights had high activations to road boundary lines by comparing feature maps from an image with a clear path to one without. Try experimenting with a similar test to show that your trained network's weights are looking for interesting features, whether it's looking at differences in feature maps from images with or without a sign, or even what feature maps look like in a trained network vs a completely untrained one on the same sign image.\n",
    "\n",
    "<figure>\n",
    " <img src=\"visualize_cnn.png\" width=\"380\" alt=\"Combined Image\" />\n",
    " <figcaption>\n",
    " <p></p> \n",
    " <p style=\"text-align: center;\"> Your output should look something like this (above)</p> \n",
    " </figcaption>\n",
    "</figure>\n",
    " <p></p> \n"
   ]
  },
  {
   "cell_type": "code",
   "execution_count": null,
   "metadata": {
    "collapsed": true
   },
   "outputs": [],
   "source": [
    "### Visualize your network's feature maps here.\n",
    "### Feel free to use as many code cells as needed.\n",
    "\n",
    "# image_input: the test image being fed into the network to produce the feature maps\n",
    "# tf_activation: should be a tf variable name used during your training procedure that represents the calculated state of a specific weight layer\n",
    "# activation_min/max: can be used to view the activation contrast in more detail, by default matplot sets min and max to the actual min and max values of the output\n",
    "# plt_num: used to plot out multiple different weight feature map sets on the same block, just extend the plt number for each new feature map entry\n",
    "\n",
    "def outputFeatureMap(image_input, tf_activation, activation_min=-1, activation_max=-1 ,plt_num=1):\n",
    "    # Here make sure to preprocess your image_input in a way your network expects\n",
    "    # with size, normalization, ect if needed\n",
    "    # image_input =\n",
    "    # Note: x should be the same name as your network's tensorflow data placeholder variable\n",
    "    # If you get an error tf_activation is not defined it may be having trouble accessing the variable from inside a function\n",
    "    activation = tf_activation.eval(session=sess,feed_dict={x : image_input})\n",
    "    featuremaps = activation.shape[3]\n",
    "    plt.figure(plt_num, figsize=(15,15))\n",
    "    for featuremap in range(featuremaps):\n",
    "        plt.subplot(6,8, featuremap+1) # sets the number of feature maps to show on each row and column\n",
    "        plt.title('FeatureMap ' + str(featuremap)) # displays the feature map number\n",
    "        if activation_min != -1 & activation_max != -1:\n",
    "            plt.imshow(activation[0,:,:, featuremap], interpolation=\"nearest\", vmin =activation_min, vmax=activation_max, cmap=\"gray\")\n",
    "        elif activation_max != -1:\n",
    "            plt.imshow(activation[0,:,:, featuremap], interpolation=\"nearest\", vmax=activation_max, cmap=\"gray\")\n",
    "        elif activation_min !=-1:\n",
    "            plt.imshow(activation[0,:,:, featuremap], interpolation=\"nearest\", vmin=activation_min, cmap=\"gray\")\n",
    "        else:\n",
    "            plt.imshow(activation[0,:,:, featuremap], interpolation=\"nearest\", cmap=\"gray\")"
   ]
  }
 ],
 "metadata": {
  "anaconda-cloud": {},
  "kernelspec": {
   "display_name": "Python 3",
   "language": "python",
   "name": "python3"
  },
  "language_info": {
   "codemirror_mode": {
    "name": "ipython",
    "version": 3
   },
   "file_extension": ".py",
   "mimetype": "text/x-python",
   "name": "python",
   "nbconvert_exporter": "python",
   "pygments_lexer": "ipython3",
   "version": "3.5.4"
  }
 },
 "nbformat": 4,
 "nbformat_minor": 1
}
